{
 "cells": [
  {
   "cell_type": "markdown",
   "id": "4420ea1d",
   "metadata": {},
   "source": [
    "# 01 - Calculating Area Properties"
   ]
  },
  {
   "cell_type": "markdown",
   "id": "588b04b5",
   "metadata": {},
   "source": [
    "This example demonstrates how to create a simple reinforced concrete cross-section and obtain the gross area properties. We start by importing the necessary modules."
   ]
  },
  {
   "cell_type": "code",
   "execution_count": 1,
   "id": "8ef72f3c",
   "metadata": {
    "execution": {
     "iopub.execute_input": "2022-07-12T00:38:56.165563Z",
     "iopub.status.busy": "2022-07-12T00:38:56.163774Z",
     "iopub.status.idle": "2022-07-12T00:38:57.424074Z",
     "shell.execute_reply": "2022-07-12T00:38:57.423392Z"
    }
   },
   "outputs": [
    {
     "ename": "ModuleNotFoundError",
     "evalue": "No module named 'concreteproperties'",
     "output_type": "error",
     "traceback": [
      "\u001b[0;31m---------------------------------------------------------------------------\u001b[0m",
      "\u001b[0;31mModuleNotFoundError\u001b[0m                       Traceback (most recent call last)",
      "Input \u001b[0;32mIn [1]\u001b[0m, in \u001b[0;36m<cell line: 2>\u001b[0;34m()\u001b[0m\n\u001b[1;32m      1\u001b[0m \u001b[38;5;28;01mfrom\u001b[39;00m \u001b[38;5;21;01msectionproperties\u001b[39;00m\u001b[38;5;21;01m.\u001b[39;00m\u001b[38;5;21;01mpre\u001b[39;00m\u001b[38;5;21;01m.\u001b[39;00m\u001b[38;5;21;01mlibrary\u001b[39;00m\u001b[38;5;21;01m.\u001b[39;00m\u001b[38;5;21;01mconcrete_sections\u001b[39;00m \u001b[38;5;28;01mimport\u001b[39;00m concrete_rectangular_section\n\u001b[0;32m----> 2\u001b[0m \u001b[38;5;28;01mfrom\u001b[39;00m \u001b[38;5;21;01mconcreteproperties\u001b[39;00m\u001b[38;5;21;01m.\u001b[39;00m\u001b[38;5;21;01mmaterial\u001b[39;00m \u001b[38;5;28;01mimport\u001b[39;00m Concrete, Steel\n\u001b[1;32m      3\u001b[0m \u001b[38;5;28;01mfrom\u001b[39;00m \u001b[38;5;21;01mconcreteproperties\u001b[39;00m\u001b[38;5;21;01m.\u001b[39;00m\u001b[38;5;21;01mconcrete_section\u001b[39;00m \u001b[38;5;28;01mimport\u001b[39;00m ConcreteSection\n\u001b[1;32m      4\u001b[0m \u001b[38;5;28;01mfrom\u001b[39;00m \u001b[38;5;21;01mconcreteproperties\u001b[39;00m\u001b[38;5;21;01m.\u001b[39;00m\u001b[38;5;21;01mstress_strain_profile\u001b[39;00m \u001b[38;5;28;01mimport\u001b[39;00m (\n\u001b[1;32m      5\u001b[0m     ConcreteLinear,\n\u001b[1;32m      6\u001b[0m     RectangularStressBlock,\n\u001b[1;32m      7\u001b[0m     SteelElasticPlastic,\n\u001b[1;32m      8\u001b[0m )\n",
      "\u001b[0;31mModuleNotFoundError\u001b[0m: No module named 'concreteproperties'"
     ]
    }
   ],
   "source": [
    "from sectionproperties.pre.library.concrete_sections import concrete_rectangular_section\n",
    "from concreteproperties.material import Concrete, Steel\n",
    "from concreteproperties.concrete_section import ConcreteSection\n",
    "from concreteproperties.stress_strain_profile import (\n",
    "    ConcreteLinear,\n",
    "    RectangularStressBlock,\n",
    "    SteelElasticPlastic,\n",
    ")"
   ]
  },
  {
   "cell_type": "markdown",
   "id": "f043c56c",
   "metadata": {},
   "source": [
    "The materials used in this example will be 32 MPa concrete and 500 MPa steel, specified in accordance with AS 3600:2018."
   ]
  },
  {
   "cell_type": "code",
   "execution_count": 2,
   "id": "601632bd",
   "metadata": {
    "execution": {
     "iopub.execute_input": "2022-07-12T00:38:57.427671Z",
     "iopub.status.busy": "2022-07-12T00:38:57.427224Z",
     "iopub.status.idle": "2022-07-12T00:38:57.447887Z",
     "shell.execute_reply": "2022-07-12T00:38:57.447270Z"
    }
   },
   "outputs": [
    {
     "ename": "NameError",
     "evalue": "name 'Concrete' is not defined",
     "output_type": "error",
     "traceback": [
      "\u001b[0;31m---------------------------------------------------------------------------\u001b[0m",
      "\u001b[0;31mNameError\u001b[0m                                 Traceback (most recent call last)",
      "Input \u001b[0;32mIn [2]\u001b[0m, in \u001b[0;36m<cell line: 1>\u001b[0;34m()\u001b[0m\n\u001b[0;32m----> 1\u001b[0m concrete \u001b[38;5;241m=\u001b[39m \u001b[43mConcrete\u001b[49m(\n\u001b[1;32m      2\u001b[0m     name\u001b[38;5;241m=\u001b[39m\u001b[38;5;124m\"\u001b[39m\u001b[38;5;124m32 MPa Concrete\u001b[39m\u001b[38;5;124m\"\u001b[39m,\n\u001b[1;32m      3\u001b[0m     density\u001b[38;5;241m=\u001b[39m\u001b[38;5;241m2.4e-6\u001b[39m,\n\u001b[1;32m      4\u001b[0m     stress_strain_profile\u001b[38;5;241m=\u001b[39mConcreteLinear(elastic_modulus\u001b[38;5;241m=\u001b[39m\u001b[38;5;241m30.1e3\u001b[39m),\n\u001b[1;32m      5\u001b[0m     ultimate_stress_strain_profile\u001b[38;5;241m=\u001b[39mRectangularStressBlock(\n\u001b[1;32m      6\u001b[0m         compressive_strength\u001b[38;5;241m=\u001b[39m\u001b[38;5;241m32\u001b[39m,\n\u001b[1;32m      7\u001b[0m         alpha\u001b[38;5;241m=\u001b[39m\u001b[38;5;241m0.802\u001b[39m,\n\u001b[1;32m      8\u001b[0m         gamma\u001b[38;5;241m=\u001b[39m\u001b[38;5;241m0.89\u001b[39m,\n\u001b[1;32m      9\u001b[0m         ultimate_strain\u001b[38;5;241m=\u001b[39m\u001b[38;5;241m0.003\u001b[39m,\n\u001b[1;32m     10\u001b[0m     ),\n\u001b[1;32m     11\u001b[0m     alpha_squash\u001b[38;5;241m=\u001b[39m\u001b[38;5;241m0.85\u001b[39m,\n\u001b[1;32m     12\u001b[0m     flexural_tensile_strength\u001b[38;5;241m=\u001b[39m\u001b[38;5;241m3.4\u001b[39m,\n\u001b[1;32m     13\u001b[0m     colour\u001b[38;5;241m=\u001b[39m\u001b[38;5;124m\"\u001b[39m\u001b[38;5;124mlightgrey\u001b[39m\u001b[38;5;124m\"\u001b[39m,\n\u001b[1;32m     14\u001b[0m )\n\u001b[1;32m     16\u001b[0m steel \u001b[38;5;241m=\u001b[39m Steel(\n\u001b[1;32m     17\u001b[0m     name\u001b[38;5;241m=\u001b[39m\u001b[38;5;124m\"\u001b[39m\u001b[38;5;124m500 MPa Steel\u001b[39m\u001b[38;5;124m\"\u001b[39m,\n\u001b[1;32m     18\u001b[0m     density\u001b[38;5;241m=\u001b[39m\u001b[38;5;241m7.85e-6\u001b[39m,\n\u001b[0;32m   (...)\u001b[0m\n\u001b[1;32m     24\u001b[0m     colour\u001b[38;5;241m=\u001b[39m\u001b[38;5;124m\"\u001b[39m\u001b[38;5;124mgrey\u001b[39m\u001b[38;5;124m\"\u001b[39m,\n\u001b[1;32m     25\u001b[0m )\n",
      "\u001b[0;31mNameError\u001b[0m: name 'Concrete' is not defined"
     ]
    }
   ],
   "source": [
    "concrete = Concrete(\n",
    "    name=\"32 MPa Concrete\",\n",
    "    density=2.4e-6,\n",
    "    stress_strain_profile=ConcreteLinear(elastic_modulus=30.1e3),\n",
    "    ultimate_stress_strain_profile=RectangularStressBlock(\n",
    "        compressive_strength=32,\n",
    "        alpha=0.802,\n",
    "        gamma=0.89,\n",
    "        ultimate_strain=0.003,\n",
    "    ),\n",
    "    alpha_squash=0.85,\n",
    "    flexural_tensile_strength=3.4,\n",
    "    colour=\"lightgrey\",\n",
    ")\n",
    "\n",
    "steel = Steel(\n",
    "    name=\"500 MPa Steel\",\n",
    "    density=7.85e-6,\n",
    "    stress_strain_profile=SteelElasticPlastic(\n",
    "        yield_strength=500,\n",
    "        elastic_modulus=200e3,\n",
    "        fracture_strain=0.05,\n",
    "    ),\n",
    "    colour=\"grey\",\n",
    ")"
   ]
  },
  {
   "cell_type": "markdown",
   "id": "47b6a2a8",
   "metadata": {},
   "source": [
    "The section being analysed in this example is a 600D x 400W rectangular beam. The reinforcement detailed is 3N20 top bars and 3N24 bottom bars, with 30 mm of clear cover. The geometry is generated using the *sectionproperties* concrete sections library."
   ]
  },
  {
   "cell_type": "code",
   "execution_count": 3,
   "id": "5f88f832",
   "metadata": {
    "execution": {
     "iopub.execute_input": "2022-07-12T00:38:57.451159Z",
     "iopub.status.busy": "2022-07-12T00:38:57.450611Z",
     "iopub.status.idle": "2022-07-12T00:38:57.468444Z",
     "shell.execute_reply": "2022-07-12T00:38:57.467793Z"
    },
    "scrolled": true
   },
   "outputs": [
    {
     "ename": "NameError",
     "evalue": "name 'concrete' is not defined",
     "output_type": "error",
     "traceback": [
      "\u001b[0;31m---------------------------------------------------------------------------\u001b[0m",
      "\u001b[0;31mNameError\u001b[0m                                 Traceback (most recent call last)",
      "Input \u001b[0;32mIn [3]\u001b[0m, in \u001b[0;36m<cell line: 1>\u001b[0;34m()\u001b[0m\n\u001b[1;32m      1\u001b[0m geom \u001b[38;5;241m=\u001b[39m concrete_rectangular_section(\n\u001b[1;32m      2\u001b[0m     b\u001b[38;5;241m=\u001b[39m\u001b[38;5;241m400\u001b[39m,\n\u001b[1;32m      3\u001b[0m     d\u001b[38;5;241m=\u001b[39m\u001b[38;5;241m600\u001b[39m,\n\u001b[1;32m      4\u001b[0m     dia_top\u001b[38;5;241m=\u001b[39m\u001b[38;5;241m20\u001b[39m,\n\u001b[1;32m      5\u001b[0m     n_top\u001b[38;5;241m=\u001b[39m\u001b[38;5;241m3\u001b[39m,\n\u001b[1;32m      6\u001b[0m     dia_bot\u001b[38;5;241m=\u001b[39m\u001b[38;5;241m24\u001b[39m,\n\u001b[1;32m      7\u001b[0m     n_bot\u001b[38;5;241m=\u001b[39m\u001b[38;5;241m3\u001b[39m,\n\u001b[1;32m      8\u001b[0m     n_circle\u001b[38;5;241m=\u001b[39m\u001b[38;5;241m4\u001b[39m,\n\u001b[1;32m      9\u001b[0m     cover\u001b[38;5;241m=\u001b[39m\u001b[38;5;241m30\u001b[39m,\n\u001b[1;32m     10\u001b[0m     area_top\u001b[38;5;241m=\u001b[39m\u001b[38;5;241m310\u001b[39m,\n\u001b[1;32m     11\u001b[0m     area_bot\u001b[38;5;241m=\u001b[39m\u001b[38;5;241m450\u001b[39m,\n\u001b[0;32m---> 12\u001b[0m     conc_mat\u001b[38;5;241m=\u001b[39m\u001b[43mconcrete\u001b[49m,\n\u001b[1;32m     13\u001b[0m     steel_mat\u001b[38;5;241m=\u001b[39msteel,\n\u001b[1;32m     14\u001b[0m )\n\u001b[1;32m     16\u001b[0m conc_sec \u001b[38;5;241m=\u001b[39m ConcreteSection(geom)\n\u001b[1;32m     17\u001b[0m conc_sec\u001b[38;5;241m.\u001b[39mplot_section()\n",
      "\u001b[0;31mNameError\u001b[0m: name 'concrete' is not defined"
     ]
    }
   ],
   "source": [
    "geom = concrete_rectangular_section(\n",
    "    b=400,\n",
    "    d=600,\n",
    "    dia_top=20,\n",
    "    n_top=3,\n",
    "    dia_bot=24,\n",
    "    n_bot=3,\n",
    "    n_circle=4,\n",
    "    cover=30,\n",
    "    area_top=310,\n",
    "    area_bot=450,\n",
    "    conc_mat=concrete,\n",
    "    steel_mat=steel,\n",
    ")\n",
    "\n",
    "conc_sec = ConcreteSection(geom)\n",
    "conc_sec.plot_section()"
   ]
  },
  {
   "cell_type": "markdown",
   "id": "c4d5fa61",
   "metadata": {},
   "source": [
    "Creating a ``ConcreteSection`` object automatically calculates the gross area properties of the reinforced concrete cross-section. These can be obtained by using the ``get_gross_properties()`` method. The section properties can be printed by calling the ``print_results()`` method."
   ]
  },
  {
   "cell_type": "code",
   "execution_count": 4,
   "id": "185cb492",
   "metadata": {
    "execution": {
     "iopub.execute_input": "2022-07-12T00:38:57.486788Z",
     "iopub.status.busy": "2022-07-12T00:38:57.486193Z",
     "iopub.status.idle": "2022-07-12T00:38:57.502824Z",
     "shell.execute_reply": "2022-07-12T00:38:57.502241Z"
    }
   },
   "outputs": [
    {
     "ename": "NameError",
     "evalue": "name 'conc_sec' is not defined",
     "output_type": "error",
     "traceback": [
      "\u001b[0;31m---------------------------------------------------------------------------\u001b[0m",
      "\u001b[0;31mNameError\u001b[0m                                 Traceback (most recent call last)",
      "Input \u001b[0;32mIn [4]\u001b[0m, in \u001b[0;36m<cell line: 1>\u001b[0;34m()\u001b[0m\n\u001b[0;32m----> 1\u001b[0m gross_props \u001b[38;5;241m=\u001b[39m \u001b[43mconc_sec\u001b[49m\u001b[38;5;241m.\u001b[39mget_gross_properties()\n\u001b[1;32m      2\u001b[0m gross_props\u001b[38;5;241m.\u001b[39mprint_results(fmt\u001b[38;5;241m=\u001b[39m\u001b[38;5;124m\"\u001b[39m\u001b[38;5;124m.3e\u001b[39m\u001b[38;5;124m\"\u001b[39m)\n",
      "\u001b[0;31mNameError\u001b[0m: name 'conc_sec' is not defined"
     ]
    }
   ],
   "source": [
    "gross_props = conc_sec.get_gross_properties()\n",
    "gross_props.print_results(fmt=\".3e\")"
   ]
  },
  {
   "cell_type": "markdown",
   "id": "894b8070",
   "metadata": {},
   "source": [
    "The above section properties are multiplied by the elastic moduli, e.g. axial rigidity (``EA``) and flexural rigidity (``EI``). Transformed section properties can be obtained using ``get_transformed_gross_properties()`` and providing a reference ``elastic_modulus``."
   ]
  },
  {
   "cell_type": "code",
   "execution_count": 5,
   "id": "e41dbfca",
   "metadata": {
    "execution": {
     "iopub.execute_input": "2022-07-12T00:38:57.506105Z",
     "iopub.status.busy": "2022-07-12T00:38:57.505563Z",
     "iopub.status.idle": "2022-07-12T00:38:57.520634Z",
     "shell.execute_reply": "2022-07-12T00:38:57.519961Z"
    }
   },
   "outputs": [
    {
     "ename": "NameError",
     "evalue": "name 'conc_sec' is not defined",
     "output_type": "error",
     "traceback": [
      "\u001b[0;31m---------------------------------------------------------------------------\u001b[0m",
      "\u001b[0;31mNameError\u001b[0m                                 Traceback (most recent call last)",
      "Input \u001b[0;32mIn [5]\u001b[0m, in \u001b[0;36m<cell line: 1>\u001b[0;34m()\u001b[0m\n\u001b[0;32m----> 1\u001b[0m transformed_props \u001b[38;5;241m=\u001b[39m \u001b[43mconc_sec\u001b[49m\u001b[38;5;241m.\u001b[39mget_transformed_gross_properties(elastic_modulus\u001b[38;5;241m=\u001b[39m\u001b[38;5;241m30.1e3\u001b[39m)\n\u001b[1;32m      2\u001b[0m transformed_props\u001b[38;5;241m.\u001b[39mprint_results(fmt\u001b[38;5;241m=\u001b[39m\u001b[38;5;124m\"\u001b[39m\u001b[38;5;124m.3e\u001b[39m\u001b[38;5;124m\"\u001b[39m)\n",
      "\u001b[0;31mNameError\u001b[0m: name 'conc_sec' is not defined"
     ]
    }
   ],
   "source": [
    "transformed_props = conc_sec.get_transformed_gross_properties(elastic_modulus=30.1e3)\n",
    "transformed_props.print_results(fmt=\".3e\")"
   ]
  }
 ],
 "metadata": {
  "kernelspec": {
   "display_name": "Python 3 (ipykernel)",
   "language": "python",
   "name": "python3"
  },
  "language_info": {
   "codemirror_mode": {
    "name": "ipython",
    "version": 3
   },
   "file_extension": ".py",
   "mimetype": "text/x-python",
   "name": "python",
   "nbconvert_exporter": "python",
   "pygments_lexer": "ipython3",
   "version": "3.8.2"
  }
 },
 "nbformat": 4,
 "nbformat_minor": 5
}

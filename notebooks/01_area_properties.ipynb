{
 "cells": [
  {
   "cell_type": "markdown",
   "id": "4420ea1d",
   "metadata": {},
   "source": [
    "# 01 - Calculating Area Properties"
   ]
  },
  {
   "cell_type": "markdown",
   "id": "588b04b5",
   "metadata": {},
   "source": [
    "This example demonstrates how to create a simple reinforced concrete cross-section and obtain the gross area properties. We start by importing the necessary modules."
   ]
  },
  {
   "cell_type": "code",
   "execution_count": 1,
   "id": "8ef72f3c",
   "metadata": {
    "execution": {
     "iopub.execute_input": "2022-07-11T14:12:41.702187Z",
     "iopub.status.busy": "2022-07-11T14:12:41.701544Z",
     "iopub.status.idle": "2022-07-11T14:12:42.764545Z",
     "shell.execute_reply": "2022-07-11T14:12:42.763490Z"
    }
   },
   "outputs": [],
   "source": [
    "from sectionproperties.pre.library.concrete_sections import concrete_rectangular_section\n",
    "from concreteproperties.material import Concrete, Steel\n",
    "from concreteproperties.concrete_section import ConcreteSection\n",
    "from concreteproperties.stress_strain_profile import (\n",
    "    ConcreteLinear,\n",
    "    RectangularStressBlock,\n",
    "    SteelElasticPlastic,\n",
    ")"
   ]
  },
  {
   "cell_type": "markdown",
   "id": "f043c56c",
   "metadata": {},
   "source": [
    "The materials used in this example will be 32 MPa concrete and 500 MPa steel, specified in accordance with AS 3600:2018."
   ]
  },
  {
   "cell_type": "code",
   "execution_count": 2,
   "id": "601632bd",
   "metadata": {
    "execution": {
     "iopub.execute_input": "2022-07-11T14:12:42.769362Z",
     "iopub.status.busy": "2022-07-11T14:12:42.769024Z",
     "iopub.status.idle": "2022-07-11T14:12:43.411371Z",
     "shell.execute_reply": "2022-07-11T14:12:43.410426Z"
    }
   },
   "outputs": [
    {
     "ename": "TypeError",
     "evalue": "__init__() missing 1 required positional argument: 'yield_strength'",
     "output_type": "error",
     "traceback": [
      "\u001b[0;31m---------------------------------------------------------------------------\u001b[0m",
      "\u001b[0;31mTypeError\u001b[0m                                 Traceback (most recent call last)",
      "Input \u001b[0;32mIn [2]\u001b[0m, in \u001b[0;36m<cell line: 16>\u001b[0;34m()\u001b[0m\n\u001b[1;32m      1\u001b[0m concrete \u001b[38;5;241m=\u001b[39m Concrete(\n\u001b[1;32m      2\u001b[0m     name\u001b[38;5;241m=\u001b[39m\u001b[38;5;124m\"\u001b[39m\u001b[38;5;124m32 MPa Concrete\u001b[39m\u001b[38;5;124m\"\u001b[39m,\n\u001b[1;32m      3\u001b[0m     density\u001b[38;5;241m=\u001b[39m\u001b[38;5;241m2.4e-6\u001b[39m,\n\u001b[0;32m   (...)\u001b[0m\n\u001b[1;32m     13\u001b[0m     colour\u001b[38;5;241m=\u001b[39m\u001b[38;5;124m\"\u001b[39m\u001b[38;5;124mlightgrey\u001b[39m\u001b[38;5;124m\"\u001b[39m,\n\u001b[1;32m     14\u001b[0m )\n\u001b[0;32m---> 16\u001b[0m steel \u001b[38;5;241m=\u001b[39m \u001b[43mSteel\u001b[49m\u001b[43m(\u001b[49m\n\u001b[1;32m     17\u001b[0m \u001b[43m    \u001b[49m\u001b[43mname\u001b[49m\u001b[38;5;241;43m=\u001b[39;49m\u001b[38;5;124;43m\"\u001b[39;49m\u001b[38;5;124;43m500 MPa Steel\u001b[39;49m\u001b[38;5;124;43m\"\u001b[39;49m\u001b[43m,\u001b[49m\n\u001b[1;32m     18\u001b[0m \u001b[43m    \u001b[49m\u001b[43mdensity\u001b[49m\u001b[38;5;241;43m=\u001b[39;49m\u001b[38;5;241;43m7.85e-6\u001b[39;49m\u001b[43m,\u001b[49m\n\u001b[1;32m     19\u001b[0m \u001b[43m    \u001b[49m\u001b[43mstress_strain_profile\u001b[49m\u001b[38;5;241;43m=\u001b[39;49m\u001b[43mSteelElasticPlastic\u001b[49m\u001b[43m(\u001b[49m\n\u001b[1;32m     20\u001b[0m \u001b[43m        \u001b[49m\u001b[43myield_strength\u001b[49m\u001b[38;5;241;43m=\u001b[39;49m\u001b[38;5;241;43m500\u001b[39;49m\u001b[43m,\u001b[49m\n\u001b[1;32m     21\u001b[0m \u001b[43m        \u001b[49m\u001b[43melastic_modulus\u001b[49m\u001b[38;5;241;43m=\u001b[39;49m\u001b[38;5;241;43m200e3\u001b[39;49m\u001b[43m,\u001b[49m\n\u001b[1;32m     22\u001b[0m \u001b[43m        \u001b[49m\u001b[43mfracture_strain\u001b[49m\u001b[38;5;241;43m=\u001b[39;49m\u001b[38;5;241;43m0.05\u001b[39;49m\u001b[43m,\u001b[49m\n\u001b[1;32m     23\u001b[0m \u001b[43m    \u001b[49m\u001b[43m)\u001b[49m\u001b[43m,\u001b[49m\n\u001b[1;32m     24\u001b[0m \u001b[43m    \u001b[49m\u001b[43mcolour\u001b[49m\u001b[38;5;241;43m=\u001b[39;49m\u001b[38;5;124;43m\"\u001b[39;49m\u001b[38;5;124;43mgrey\u001b[39;49m\u001b[38;5;124;43m\"\u001b[39;49m\u001b[43m,\u001b[49m\n\u001b[1;32m     25\u001b[0m \u001b[43m)\u001b[49m\n",
      "\u001b[0;31mTypeError\u001b[0m: __init__() missing 1 required positional argument: 'yield_strength'"
     ]
    }
   ],
   "source": [
    "concrete = Concrete(\n",
    "    name=\"32 MPa Concrete\",\n",
    "    density=2.4e-6,\n",
    "    stress_strain_profile=ConcreteLinear(elastic_modulus=30.1e3),\n",
    "    ultimate_stress_strain_profile=RectangularStressBlock(\n",
    "        compressive_strength=32,\n",
    "        alpha=0.802,\n",
    "        gamma=0.89,\n",
    "        ultimate_strain=0.003,\n",
    "    ),\n",
    "    alpha_squash=0.85,\n",
    "    flexural_tensile_strength=3.4,\n",
    "    colour=\"lightgrey\",\n",
    ")\n",
    "\n",
    "steel = Steel(\n",
    "    name=\"500 MPa Steel\",\n",
    "    density=7.85e-6,\n",
    "    stress_strain_profile=SteelElasticPlastic(\n",
    "        yield_strength=500,\n",
    "        elastic_modulus=200e3,\n",
    "        fracture_strain=0.05,\n",
    "    ),\n",
    "    colour=\"grey\",\n",
    ")"
   ]
  },
  {
   "cell_type": "markdown",
   "id": "47b6a2a8",
   "metadata": {},
   "source": [
    "The section being analysed in this example is a 600D x 400W rectangular beam. The reinforcement detailed is 3N20 top bars and 3N24 bottom bars, with 30 mm of clear cover. The geometry is generated using the *sectionproperties* concrete sections library."
   ]
  },
  {
   "cell_type": "code",
   "execution_count": 3,
   "id": "5f88f832",
   "metadata": {
    "execution": {
     "iopub.execute_input": "2022-07-11T14:12:43.415774Z",
     "iopub.status.busy": "2022-07-11T14:12:43.415298Z",
     "iopub.status.idle": "2022-07-11T14:12:43.438223Z",
     "shell.execute_reply": "2022-07-11T14:12:43.437166Z"
    },
    "scrolled": true
   },
   "outputs": [
    {
     "ename": "NameError",
     "evalue": "name 'steel' is not defined",
     "output_type": "error",
     "traceback": [
      "\u001b[0;31m---------------------------------------------------------------------------\u001b[0m",
      "\u001b[0;31mNameError\u001b[0m                                 Traceback (most recent call last)",
      "Input \u001b[0;32mIn [3]\u001b[0m, in \u001b[0;36m<cell line: 1>\u001b[0;34m()\u001b[0m\n\u001b[1;32m      1\u001b[0m geom \u001b[38;5;241m=\u001b[39m concrete_rectangular_section(\n\u001b[1;32m      2\u001b[0m     b\u001b[38;5;241m=\u001b[39m\u001b[38;5;241m400\u001b[39m,\n\u001b[1;32m      3\u001b[0m     d\u001b[38;5;241m=\u001b[39m\u001b[38;5;241m600\u001b[39m,\n\u001b[1;32m      4\u001b[0m     dia_top\u001b[38;5;241m=\u001b[39m\u001b[38;5;241m20\u001b[39m,\n\u001b[1;32m      5\u001b[0m     n_top\u001b[38;5;241m=\u001b[39m\u001b[38;5;241m3\u001b[39m,\n\u001b[1;32m      6\u001b[0m     dia_bot\u001b[38;5;241m=\u001b[39m\u001b[38;5;241m24\u001b[39m,\n\u001b[1;32m      7\u001b[0m     n_bot\u001b[38;5;241m=\u001b[39m\u001b[38;5;241m3\u001b[39m,\n\u001b[1;32m      8\u001b[0m     n_circle\u001b[38;5;241m=\u001b[39m\u001b[38;5;241m4\u001b[39m,\n\u001b[1;32m      9\u001b[0m     cover\u001b[38;5;241m=\u001b[39m\u001b[38;5;241m30\u001b[39m,\n\u001b[1;32m     10\u001b[0m     area_top\u001b[38;5;241m=\u001b[39m\u001b[38;5;241m310\u001b[39m,\n\u001b[1;32m     11\u001b[0m     area_bot\u001b[38;5;241m=\u001b[39m\u001b[38;5;241m450\u001b[39m,\n\u001b[1;32m     12\u001b[0m     conc_mat\u001b[38;5;241m=\u001b[39mconcrete,\n\u001b[0;32m---> 13\u001b[0m     steel_mat\u001b[38;5;241m=\u001b[39m\u001b[43msteel\u001b[49m,\n\u001b[1;32m     14\u001b[0m )\n\u001b[1;32m     16\u001b[0m conc_sec \u001b[38;5;241m=\u001b[39m ConcreteSection(geom)\n\u001b[1;32m     17\u001b[0m conc_sec\u001b[38;5;241m.\u001b[39mplot_section()\n",
      "\u001b[0;31mNameError\u001b[0m: name 'steel' is not defined"
     ]
    }
   ],
   "source": [
    "geom = concrete_rectangular_section(\n",
    "    b=400,\n",
    "    d=600,\n",
    "    dia_top=20,\n",
    "    n_top=3,\n",
    "    dia_bot=24,\n",
    "    n_bot=3,\n",
    "    n_circle=4,\n",
    "    cover=30,\n",
    "    area_top=310,\n",
    "    area_bot=450,\n",
    "    conc_mat=concrete,\n",
    "    steel_mat=steel,\n",
    ")\n",
    "\n",
    "conc_sec = ConcreteSection(geom)\n",
    "conc_sec.plot_section()"
   ]
  },
  {
   "cell_type": "markdown",
   "id": "c4d5fa61",
   "metadata": {},
   "source": [
    "Creating a ``ConcreteSection`` object automatically calculates the gross area properties of the reinforced concrete cross-section. These can be obtained by using the ``get_gross_properties()`` method. The section properties can be printed by calling the ``print_results()`` method."
   ]
  },
  {
   "cell_type": "code",
   "execution_count": 4,
   "id": "185cb492",
   "metadata": {
    "execution": {
     "iopub.execute_input": "2022-07-11T14:12:43.455509Z",
     "iopub.status.busy": "2022-07-11T14:12:43.454786Z",
     "iopub.status.idle": "2022-07-11T14:12:43.477063Z",
     "shell.execute_reply": "2022-07-11T14:12:43.476144Z"
    }
   },
   "outputs": [
    {
     "ename": "NameError",
     "evalue": "name 'conc_sec' is not defined",
     "output_type": "error",
     "traceback": [
      "\u001b[0;31m---------------------------------------------------------------------------\u001b[0m",
      "\u001b[0;31mNameError\u001b[0m                                 Traceback (most recent call last)",
      "Input \u001b[0;32mIn [4]\u001b[0m, in \u001b[0;36m<cell line: 1>\u001b[0;34m()\u001b[0m\n\u001b[0;32m----> 1\u001b[0m gross_props \u001b[38;5;241m=\u001b[39m \u001b[43mconc_sec\u001b[49m\u001b[38;5;241m.\u001b[39mget_gross_properties()\n\u001b[1;32m      2\u001b[0m gross_props\u001b[38;5;241m.\u001b[39mprint_results(fmt\u001b[38;5;241m=\u001b[39m\u001b[38;5;124m\"\u001b[39m\u001b[38;5;124m.3e\u001b[39m\u001b[38;5;124m\"\u001b[39m)\n",
      "\u001b[0;31mNameError\u001b[0m: name 'conc_sec' is not defined"
     ]
    }
   ],
   "source": [
    "gross_props = conc_sec.get_gross_properties()\n",
    "gross_props.print_results(fmt=\".3e\")"
   ]
  },
  {
   "cell_type": "markdown",
   "id": "894b8070",
   "metadata": {},
   "source": [
    "The above section properties are multiplied by the elastic moduli, e.g. axial rigidity (``EA``) and flexural rigidity (``EI``). Transformed section properties can be obtained using ``get_transformed_gross_properties()`` and providing a reference ``elastic_modulus``."
   ]
  },
  {
   "cell_type": "code",
   "execution_count": 5,
   "id": "e41dbfca",
   "metadata": {
    "execution": {
     "iopub.execute_input": "2022-07-11T14:12:43.481559Z",
     "iopub.status.busy": "2022-07-11T14:12:43.480719Z",
     "iopub.status.idle": "2022-07-11T14:12:43.500364Z",
     "shell.execute_reply": "2022-07-11T14:12:43.499493Z"
    }
   },
   "outputs": [
    {
     "ename": "NameError",
     "evalue": "name 'conc_sec' is not defined",
     "output_type": "error",
     "traceback": [
      "\u001b[0;31m---------------------------------------------------------------------------\u001b[0m",
      "\u001b[0;31mNameError\u001b[0m                                 Traceback (most recent call last)",
      "Input \u001b[0;32mIn [5]\u001b[0m, in \u001b[0;36m<cell line: 1>\u001b[0;34m()\u001b[0m\n\u001b[0;32m----> 1\u001b[0m transformed_props \u001b[38;5;241m=\u001b[39m \u001b[43mconc_sec\u001b[49m\u001b[38;5;241m.\u001b[39mget_transformed_gross_properties(elastic_modulus\u001b[38;5;241m=\u001b[39m\u001b[38;5;241m30.1e3\u001b[39m)\n\u001b[1;32m      2\u001b[0m transformed_props\u001b[38;5;241m.\u001b[39mprint_results(fmt\u001b[38;5;241m=\u001b[39m\u001b[38;5;124m\"\u001b[39m\u001b[38;5;124m.3e\u001b[39m\u001b[38;5;124m\"\u001b[39m)\n",
      "\u001b[0;31mNameError\u001b[0m: name 'conc_sec' is not defined"
     ]
    }
   ],
   "source": [
    "transformed_props = conc_sec.get_transformed_gross_properties(elastic_modulus=30.1e3)\n",
    "transformed_props.print_results(fmt=\".3e\")"
   ]
  }
 ],
 "metadata": {
  "kernelspec": {
   "display_name": "Python 3 (ipykernel)",
   "language": "python",
   "name": "python3"
  },
  "language_info": {
   "codemirror_mode": {
    "name": "ipython",
    "version": 3
   },
   "file_extension": ".py",
   "mimetype": "text/x-python",
   "name": "python",
   "nbconvert_exporter": "python",
   "pygments_lexer": "ipython3",
   "version": "3.8.2"
  }
 },
 "nbformat": 4,
 "nbformat_minor": 5
}
